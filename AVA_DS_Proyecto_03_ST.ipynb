{
 "cells": [
  {
   "cell_type": "markdown",
   "metadata": {
    "id": "Y5xSScYVId1j"
   },
   "source": [
    "# Proyecto 03 - Series de Tiempo\n",
    "\n",
    "## Dataset: Flujo Vehicular por Unidades de Peaje AUSA\n",
    "\n",
    "**Recuerda descargar el dataset de [aquí](https://data.buenosaires.gob.ar/dataset/flujo-vehicular-por-unidades-peaje-ausa). Deberás descargar -  al menos para comenzar - los años 2017, 2018 y 2019.**\n",
    "\n",
    "En este notebook te dejamos unas celdas para que puedas comenzar a trabajar con este dataset para los años 2017, 2018 y 2019. Si deseas utilizar otros años, ten en cuenta que deberás hacer el preprocesamiento correspondiente, ya que la estructura de los datos puede variar.\n",
    "\n",
    "**Importante:** Para el proyecto, debes comenzar con los datos de la autopista Illia, pago en Efectivo.\n",
    "\n",
    "### Exploración de datos\n",
    "\n",
    "Dedícale un buen tiempo a hacer un Análisis Exploratorio de Datos. Elige preguntas que creas que puedas responder con este dataset. Por ejemplo, ¿Cuáles son los días y horarios de mayor tráfico? También, estudia autocorrelaciones, resampleos, etc.\n",
    "\n",
    "#### Componentes de la serie\n",
    "\n",
    "1. Calcula las componentes estacionales y tendencia de la serie. Interpreta los resultados, si es necesario con información auxiliar (por fuera del dataset) o elementos del dataset que no estés utilizando (por ejemplo, si la tendencia es negativa, ¿puede ser porque se migre a otras formas de pago?).\n",
    "1. ¿La serie posee valores atípicos? Si es así, interpreta, si es necesario con información auxiliar. **Pista**: primer semestre 2019.\n",
    "\n",
    "### Predicción a Futuro\n",
    "\n",
    "Debes implementar un modelo que prediga el tráfico en la autopista Illia para el último trimestre del 2019. \n",
    "\n",
    "1. Haz todas las transformaciones de datos que consideres necesarias. Justifica.\n",
    "1. Evalúa de forma apropiada tus resultados. Justifica la métrica elegida.\n",
    "1. Elige un modelo benchmark y compara tus resultados con este modelo.\n",
    "1. Optimiza los hiperparámetros de tu modelo. \n",
    "1. Intenta responder la pregunta: ¿Qué información está usando el modelo para predecir?\n",
    "1. Utiliza el modelo creado para predecir el tráfico en el año 2020. ¿Cómo funciona?\n",
    "1. Si lo deseas, puedes agregar información de años anteriores a 2017. ¿Mejoran los resultados?\n",
    "\n",
    "### Para pensar, investigar y, opcionalmente, implementar\n",
    "1. ¿Cómo incorporarías la información sobre tipo de vehículo, forma de pago, sentido, día de la semana, etc.? En lo que respecta a las predicciones, ¿mejoran o empeoran?\n",
    "1. ¿Qué ocurre si comparas las series de tiempo entre distintas estaciones de peajes?¿Tienen el mismo comportamiento o hay alguna que sea distinta a las otras? Si es así, ¿hay información auxiliar que te ayude a explicar lo que encuentras?\n",
    "1. ¿Hay algo que te gustaría investigar o probar?\n",
    "\n",
    "### **¡Tómate tiempo para investigar y leer mucho!**\n",
    "\n",
    "### 1. Preparación del Dataset"
   ]
  },
  {
   "cell_type": "code",
   "execution_count": 1,
   "metadata": {
    "id": "W7HAw3EvId1m"
   },
   "outputs": [
    {
     "name": "stderr",
     "output_type": "stream",
     "text": [
      "Importing plotly failed. Interactive plots will not work.\n"
     ]
    }
   ],
   "source": [
    "import pandas as pd\n",
    "import numpy as np\n",
    "from fbprophet import Prophet\n",
    "import matplotlib.pyplot as plt\n",
    "import datetime"
   ]
  },
  {
   "cell_type": "code",
   "execution_count": 2,
   "metadata": {
    "id": "hgxJSUQ0Id1x"
   },
   "outputs": [],
   "source": [
    "data_2019 = pd.read_csv('flujo-vehicular-2019.csv', sep =',')\n",
    "data_2018 = pd.read_csv('flujo-vehicular-2018.csv', sep =',')\n",
    "data_2017 = pd.read_csv('flujo-vehicular-2017.csv', sep =',')"
   ]
  },
  {
   "cell_type": "code",
   "execution_count": 3,
   "metadata": {
    "colab": {
     "base_uri": "https://localhost:8080/",
     "height": 518
    },
    "id": "-rqv8_yHId19",
    "outputId": "c93cfa6b-1b1b-412b-ded5-e5e06800b489"
   },
   "outputs": [
    {
     "name": "stdout",
     "output_type": "stream",
     "text": [
      "<class 'pandas.core.frame.DataFrame'>\n",
      "RangeIndex: 812153 entries, 0 to 812152\n",
      "Data columns (total 10 columns):\n",
      " #   Column          Non-Null Count   Dtype \n",
      "---  ------          --------------   ----- \n",
      " 0   periodo         812153 non-null  int64 \n",
      " 1   fecha           812153 non-null  object\n",
      " 2   hora_inicio     812153 non-null  int64 \n",
      " 3   hora_fin        812153 non-null  int64 \n",
      " 4   dia             812153 non-null  object\n",
      " 5   estacion        812153 non-null  object\n",
      " 6   sentido         812153 non-null  object\n",
      " 7   tipo_vehiculo   812153 non-null  object\n",
      " 8   forma_pago      812153 non-null  object\n",
      " 9   cantidad_pasos  812153 non-null  int64 \n",
      "dtypes: int64(4), object(6)\n",
      "memory usage: 62.0+ MB\n"
     ]
    },
    {
     "data": {
      "text/html": [
       "<div>\n",
       "<style scoped>\n",
       "    .dataframe tbody tr th:only-of-type {\n",
       "        vertical-align: middle;\n",
       "    }\n",
       "\n",
       "    .dataframe tbody tr th {\n",
       "        vertical-align: top;\n",
       "    }\n",
       "\n",
       "    .dataframe thead th {\n",
       "        text-align: right;\n",
       "    }\n",
       "</style>\n",
       "<table border=\"1\" class=\"dataframe\">\n",
       "  <thead>\n",
       "    <tr style=\"text-align: right;\">\n",
       "      <th></th>\n",
       "      <th>periodo</th>\n",
       "      <th>fecha</th>\n",
       "      <th>hora_inicio</th>\n",
       "      <th>hora_fin</th>\n",
       "      <th>dia</th>\n",
       "      <th>estacion</th>\n",
       "      <th>sentido</th>\n",
       "      <th>tipo_vehiculo</th>\n",
       "      <th>forma_pago</th>\n",
       "      <th>cantidad_pasos</th>\n",
       "    </tr>\n",
       "  </thead>\n",
       "  <tbody>\n",
       "    <tr>\n",
       "      <th>0</th>\n",
       "      <td>2019</td>\n",
       "      <td>2019-01-01</td>\n",
       "      <td>0</td>\n",
       "      <td>1</td>\n",
       "      <td>Martes</td>\n",
       "      <td>Alberti</td>\n",
       "      <td>Centro</td>\n",
       "      <td>Liviano</td>\n",
       "      <td>NO COBRADO</td>\n",
       "      <td>22</td>\n",
       "    </tr>\n",
       "    <tr>\n",
       "      <th>1</th>\n",
       "      <td>2019</td>\n",
       "      <td>2019-01-01</td>\n",
       "      <td>0</td>\n",
       "      <td>1</td>\n",
       "      <td>Martes</td>\n",
       "      <td>Alberti</td>\n",
       "      <td>Centro</td>\n",
       "      <td>Liviano</td>\n",
       "      <td>TELEPASE</td>\n",
       "      <td>6</td>\n",
       "    </tr>\n",
       "    <tr>\n",
       "      <th>2</th>\n",
       "      <td>2019</td>\n",
       "      <td>2019-01-01</td>\n",
       "      <td>0</td>\n",
       "      <td>1</td>\n",
       "      <td>Martes</td>\n",
       "      <td>Alberti</td>\n",
       "      <td>Provincia</td>\n",
       "      <td>Liviano</td>\n",
       "      <td>NO COBRADO</td>\n",
       "      <td>53</td>\n",
       "    </tr>\n",
       "    <tr>\n",
       "      <th>3</th>\n",
       "      <td>2019</td>\n",
       "      <td>2019-01-01</td>\n",
       "      <td>0</td>\n",
       "      <td>1</td>\n",
       "      <td>Martes</td>\n",
       "      <td>Alberti</td>\n",
       "      <td>Provincia</td>\n",
       "      <td>Liviano</td>\n",
       "      <td>TELEPASE</td>\n",
       "      <td>18</td>\n",
       "    </tr>\n",
       "    <tr>\n",
       "      <th>4</th>\n",
       "      <td>2019</td>\n",
       "      <td>2019-01-01</td>\n",
       "      <td>0</td>\n",
       "      <td>1</td>\n",
       "      <td>Martes</td>\n",
       "      <td>Avellaneda</td>\n",
       "      <td>Centro</td>\n",
       "      <td>Liviano</td>\n",
       "      <td>EFECTIVO</td>\n",
       "      <td>16</td>\n",
       "    </tr>\n",
       "  </tbody>\n",
       "</table>\n",
       "</div>"
      ],
      "text/plain": [
       "   periodo       fecha  hora_inicio  hora_fin     dia    estacion    sentido  \\\n",
       "0     2019  2019-01-01            0         1  Martes     Alberti     Centro   \n",
       "1     2019  2019-01-01            0         1  Martes     Alberti     Centro   \n",
       "2     2019  2019-01-01            0         1  Martes     Alberti  Provincia   \n",
       "3     2019  2019-01-01            0         1  Martes     Alberti  Provincia   \n",
       "4     2019  2019-01-01            0         1  Martes  Avellaneda     Centro   \n",
       "\n",
       "  tipo_vehiculo  forma_pago  cantidad_pasos  \n",
       "0       Liviano  NO COBRADO              22  \n",
       "1       Liviano    TELEPASE               6  \n",
       "2       Liviano  NO COBRADO              53  \n",
       "3       Liviano    TELEPASE              18  \n",
       "4       Liviano    EFECTIVO              16  "
      ]
     },
     "execution_count": 3,
     "metadata": {},
     "output_type": "execute_result"
    }
   ],
   "source": [
    "data_2019.info()\n",
    "data_2019.head()"
   ]
  },
  {
   "cell_type": "code",
   "execution_count": 4,
   "metadata": {
    "colab": {
     "base_uri": "https://localhost:8080/",
     "height": 518
    },
    "id": "t327LOEhId2G",
    "outputId": "c24e5322-9f17-4c51-8b1f-1b813420d9ff"
   },
   "outputs": [
    {
     "name": "stdout",
     "output_type": "stream",
     "text": [
      "<class 'pandas.core.frame.DataFrame'>\n",
      "RangeIndex: 1375908 entries, 0 to 1375907\n",
      "Data columns (total 10 columns):\n",
      " #   Column          Non-Null Count    Dtype \n",
      "---  ------          --------------    ----- \n",
      " 0   periodo         1375908 non-null  int64 \n",
      " 1   fecha           1375908 non-null  object\n",
      " 2   hora_inicio     1375908 non-null  int64 \n",
      " 3   hora_fin        1375908 non-null  int64 \n",
      " 4   dia             1375908 non-null  object\n",
      " 5   estacion        1375908 non-null  object\n",
      " 6   sentido         1375908 non-null  object\n",
      " 7   tipo_vehiculo   1375908 non-null  object\n",
      " 8   forma_pago      1375908 non-null  object\n",
      " 9   cantidad_pasos  1375908 non-null  int64 \n",
      "dtypes: int64(4), object(6)\n",
      "memory usage: 105.0+ MB\n"
     ]
    },
    {
     "data": {
      "text/html": [
       "<div>\n",
       "<style scoped>\n",
       "    .dataframe tbody tr th:only-of-type {\n",
       "        vertical-align: middle;\n",
       "    }\n",
       "\n",
       "    .dataframe tbody tr th {\n",
       "        vertical-align: top;\n",
       "    }\n",
       "\n",
       "    .dataframe thead th {\n",
       "        text-align: right;\n",
       "    }\n",
       "</style>\n",
       "<table border=\"1\" class=\"dataframe\">\n",
       "  <thead>\n",
       "    <tr style=\"text-align: right;\">\n",
       "      <th></th>\n",
       "      <th>periodo</th>\n",
       "      <th>fecha</th>\n",
       "      <th>hora_inicio</th>\n",
       "      <th>hora_fin</th>\n",
       "      <th>dia</th>\n",
       "      <th>estacion</th>\n",
       "      <th>sentido</th>\n",
       "      <th>tipo_vehiculo</th>\n",
       "      <th>forma_pago</th>\n",
       "      <th>cantidad_pasos</th>\n",
       "    </tr>\n",
       "  </thead>\n",
       "  <tbody>\n",
       "    <tr>\n",
       "      <th>0</th>\n",
       "      <td>2018</td>\n",
       "      <td>2018-01-01</td>\n",
       "      <td>0</td>\n",
       "      <td>1</td>\n",
       "      <td>Lunes</td>\n",
       "      <td>Alberdi</td>\n",
       "      <td>Centro</td>\n",
       "      <td>Liviano</td>\n",
       "      <td>NO COBRADO</td>\n",
       "      <td>29</td>\n",
       "    </tr>\n",
       "    <tr>\n",
       "      <th>1</th>\n",
       "      <td>2018</td>\n",
       "      <td>2018-01-01</td>\n",
       "      <td>0</td>\n",
       "      <td>1</td>\n",
       "      <td>Lunes</td>\n",
       "      <td>Alberdi</td>\n",
       "      <td>Centro</td>\n",
       "      <td>Liviano</td>\n",
       "      <td>TELEPASE</td>\n",
       "      <td>9</td>\n",
       "    </tr>\n",
       "    <tr>\n",
       "      <th>2</th>\n",
       "      <td>2018</td>\n",
       "      <td>2018-01-01</td>\n",
       "      <td>1</td>\n",
       "      <td>2</td>\n",
       "      <td>Lunes</td>\n",
       "      <td>Alberdi</td>\n",
       "      <td>Centro</td>\n",
       "      <td>Liviano</td>\n",
       "      <td>NO COBRADO</td>\n",
       "      <td>73</td>\n",
       "    </tr>\n",
       "    <tr>\n",
       "      <th>3</th>\n",
       "      <td>2018</td>\n",
       "      <td>2018-01-01</td>\n",
       "      <td>1</td>\n",
       "      <td>2</td>\n",
       "      <td>Lunes</td>\n",
       "      <td>Alberdi</td>\n",
       "      <td>Centro</td>\n",
       "      <td>Liviano</td>\n",
       "      <td>TELEPASE</td>\n",
       "      <td>39</td>\n",
       "    </tr>\n",
       "    <tr>\n",
       "      <th>4</th>\n",
       "      <td>2018</td>\n",
       "      <td>2018-01-01</td>\n",
       "      <td>2</td>\n",
       "      <td>3</td>\n",
       "      <td>Lunes</td>\n",
       "      <td>Alberdi</td>\n",
       "      <td>Centro</td>\n",
       "      <td>Liviano</td>\n",
       "      <td>NO COBRADO</td>\n",
       "      <td>115</td>\n",
       "    </tr>\n",
       "  </tbody>\n",
       "</table>\n",
       "</div>"
      ],
      "text/plain": [
       "   periodo       fecha  hora_inicio  hora_fin    dia estacion sentido  \\\n",
       "0     2018  2018-01-01            0         1  Lunes  Alberdi  Centro   \n",
       "1     2018  2018-01-01            0         1  Lunes  Alberdi  Centro   \n",
       "2     2018  2018-01-01            1         2  Lunes  Alberdi  Centro   \n",
       "3     2018  2018-01-01            1         2  Lunes  Alberdi  Centro   \n",
       "4     2018  2018-01-01            2         3  Lunes  Alberdi  Centro   \n",
       "\n",
       "  tipo_vehiculo  forma_pago  cantidad_pasos  \n",
       "0       Liviano  NO COBRADO              29  \n",
       "1       Liviano    TELEPASE               9  \n",
       "2       Liviano  NO COBRADO              73  \n",
       "3       Liviano    TELEPASE              39  \n",
       "4       Liviano  NO COBRADO             115  "
      ]
     },
     "execution_count": 4,
     "metadata": {},
     "output_type": "execute_result"
    }
   ],
   "source": [
    "data_2018.info()\n",
    "data_2018.head()"
   ]
  },
  {
   "cell_type": "code",
   "execution_count": 5,
   "metadata": {
    "colab": {
     "base_uri": "https://localhost:8080/",
     "height": 518
    },
    "id": "OvaBbZf_Id2N",
    "outputId": "e050d33d-baf8-41b7-c1c0-92cd3f60f280"
   },
   "outputs": [
    {
     "name": "stdout",
     "output_type": "stream",
     "text": [
      "<class 'pandas.core.frame.DataFrame'>\n",
      "RangeIndex: 1372645 entries, 0 to 1372644\n",
      "Data columns (total 10 columns):\n",
      " #   Column          Non-Null Count    Dtype \n",
      "---  ------          --------------    ----- \n",
      " 0   periodo         1372645 non-null  int64 \n",
      " 1   fecha           1372645 non-null  object\n",
      " 2   hora_inicio     1372645 non-null  int64 \n",
      " 3   hora_fin        1372645 non-null  int64 \n",
      " 4   dia             1372645 non-null  object\n",
      " 5   estacion        1372645 non-null  object\n",
      " 6   sentido         1372645 non-null  object\n",
      " 7   tipo_vehiculo   1372645 non-null  object\n",
      " 8   forma_pago      1372645 non-null  object\n",
      " 9   cantidad_pasos  1372645 non-null  int64 \n",
      "dtypes: int64(4), object(6)\n",
      "memory usage: 104.7+ MB\n"
     ]
    },
    {
     "data": {
      "text/html": [
       "<div>\n",
       "<style scoped>\n",
       "    .dataframe tbody tr th:only-of-type {\n",
       "        vertical-align: middle;\n",
       "    }\n",
       "\n",
       "    .dataframe tbody tr th {\n",
       "        vertical-align: top;\n",
       "    }\n",
       "\n",
       "    .dataframe thead th {\n",
       "        text-align: right;\n",
       "    }\n",
       "</style>\n",
       "<table border=\"1\" class=\"dataframe\">\n",
       "  <thead>\n",
       "    <tr style=\"text-align: right;\">\n",
       "      <th></th>\n",
       "      <th>periodo</th>\n",
       "      <th>fecha</th>\n",
       "      <th>hora_inicio</th>\n",
       "      <th>hora_fin</th>\n",
       "      <th>dia</th>\n",
       "      <th>estacion</th>\n",
       "      <th>sentido</th>\n",
       "      <th>tipo_vehiculo</th>\n",
       "      <th>forma_pago</th>\n",
       "      <th>cantidad_pasos</th>\n",
       "    </tr>\n",
       "  </thead>\n",
       "  <tbody>\n",
       "    <tr>\n",
       "      <th>0</th>\n",
       "      <td>2017</td>\n",
       "      <td>2017-01-01</td>\n",
       "      <td>0</td>\n",
       "      <td>1</td>\n",
       "      <td>Domingo</td>\n",
       "      <td>Alberdi</td>\n",
       "      <td>Centro</td>\n",
       "      <td>Liviano</td>\n",
       "      <td>NO COBRADO</td>\n",
       "      <td>25</td>\n",
       "    </tr>\n",
       "    <tr>\n",
       "      <th>1</th>\n",
       "      <td>2017</td>\n",
       "      <td>2017-01-01</td>\n",
       "      <td>0</td>\n",
       "      <td>1</td>\n",
       "      <td>Domingo</td>\n",
       "      <td>Alberdi</td>\n",
       "      <td>Centro</td>\n",
       "      <td>Liviano</td>\n",
       "      <td>TELEPASE</td>\n",
       "      <td>7</td>\n",
       "    </tr>\n",
       "    <tr>\n",
       "      <th>2</th>\n",
       "      <td>2017</td>\n",
       "      <td>2017-01-01</td>\n",
       "      <td>1</td>\n",
       "      <td>2</td>\n",
       "      <td>Domingo</td>\n",
       "      <td>Alberdi</td>\n",
       "      <td>Centro</td>\n",
       "      <td>Liviano</td>\n",
       "      <td>NO COBRADO</td>\n",
       "      <td>5</td>\n",
       "    </tr>\n",
       "    <tr>\n",
       "      <th>3</th>\n",
       "      <td>2017</td>\n",
       "      <td>2017-01-01</td>\n",
       "      <td>1</td>\n",
       "      <td>2</td>\n",
       "      <td>Domingo</td>\n",
       "      <td>Alberdi</td>\n",
       "      <td>Centro</td>\n",
       "      <td>Liviano</td>\n",
       "      <td>EFECTIVO</td>\n",
       "      <td>2</td>\n",
       "    </tr>\n",
       "    <tr>\n",
       "      <th>4</th>\n",
       "      <td>2017</td>\n",
       "      <td>2017-01-01</td>\n",
       "      <td>1</td>\n",
       "      <td>2</td>\n",
       "      <td>Domingo</td>\n",
       "      <td>Alberdi</td>\n",
       "      <td>Centro</td>\n",
       "      <td>Liviano</td>\n",
       "      <td>EFECTIVO</td>\n",
       "      <td>94</td>\n",
       "    </tr>\n",
       "  </tbody>\n",
       "</table>\n",
       "</div>"
      ],
      "text/plain": [
       "   periodo       fecha  hora_inicio  hora_fin      dia estacion sentido  \\\n",
       "0     2017  2017-01-01            0         1  Domingo  Alberdi  Centro   \n",
       "1     2017  2017-01-01            0         1  Domingo  Alberdi  Centro   \n",
       "2     2017  2017-01-01            1         2  Domingo  Alberdi  Centro   \n",
       "3     2017  2017-01-01            1         2  Domingo  Alberdi  Centro   \n",
       "4     2017  2017-01-01            1         2  Domingo  Alberdi  Centro   \n",
       "\n",
       "  tipo_vehiculo  forma_pago  cantidad_pasos  \n",
       "0       Liviano  NO COBRADO              25  \n",
       "1       Liviano    TELEPASE               7  \n",
       "2       Liviano  NO COBRADO               5  \n",
       "3       Liviano    EFECTIVO               2  \n",
       "4       Liviano    EFECTIVO              94  "
      ]
     },
     "execution_count": 5,
     "metadata": {},
     "output_type": "execute_result"
    }
   ],
   "source": [
    "data_2017.info()\n",
    "data_2017.head()"
   ]
  },
  {
   "cell_type": "markdown",
   "metadata": {
    "id": "KcR5QSDTId2U"
   },
   "source": [
    "Investiguemos que valores toman los campos **estacion, sentido, tipo_vehiculo y forma_pago**"
   ]
  },
  {
   "cell_type": "code",
   "execution_count": 6,
   "metadata": {
    "colab": {
     "base_uri": "https://localhost:8080/",
     "height": 127
    },
    "id": "5C-XUOgYId2V",
    "outputId": "ebba4619-2891-4ed6-8cf7-0fbc102d5dea"
   },
   "outputs": [
    {
     "name": "stdout",
     "output_type": "stream",
     "text": [
      "['Alberti' 'Avellaneda' 'Dellepiane' 'Illia' 'Retiro' 'Salguero'\n",
      " 'Sarmiento' 'PDB']\n",
      "['Alberdi' 'Avellaneda' 'Dellepiane Centro' 'Dellepiane Liniers' 'Illia'\n",
      " 'Retiro' 'Salguero' 'Sarmiento']\n",
      "['Alberdi' 'Avellaneda' 'Dellepiane Centro' 'Dellepiane Liniers' 'Illia'\n",
      " 'Retiro' 'Salguero' 'Sarmiento']\n"
     ]
    }
   ],
   "source": [
    "print(data_2019['estacion'].unique())\n",
    "print(data_2018['estacion'].unique())\n",
    "print(data_2017['estacion'].unique())"
   ]
  },
  {
   "cell_type": "code",
   "execution_count": 7,
   "metadata": {
    "colab": {
     "base_uri": "https://localhost:8080/",
     "height": 72
    },
    "id": "qqvXxv-DId2b",
    "outputId": "db45d5c5-97b7-4ba7-a8a3-d9cd005f37c4"
   },
   "outputs": [
    {
     "name": "stdout",
     "output_type": "stream",
     "text": [
      "['Centro' 'Provincia']\n",
      "['Centro' 'Provincia']\n",
      "['Centro' 'Provincia']\n"
     ]
    }
   ],
   "source": [
    "print(data_2019['sentido'].unique())\n",
    "print(data_2018['sentido'].unique())\n",
    "print(data_2017['sentido'].unique())"
   ]
  },
  {
   "cell_type": "code",
   "execution_count": 8,
   "metadata": {
    "colab": {
     "base_uri": "https://localhost:8080/",
     "height": 72
    },
    "id": "KK4J02tHId2f",
    "outputId": "c668c4ad-7d19-4504-caa4-3845c7c97b6d"
   },
   "outputs": [
    {
     "name": "stdout",
     "output_type": "stream",
     "text": [
      "['Liviano' 'Pesado']\n",
      "['Liviano' 'Pesado']\n",
      "['Liviano' 'Pesado']\n"
     ]
    }
   ],
   "source": [
    "print(data_2019['tipo_vehiculo'].unique())\n",
    "print(data_2018['tipo_vehiculo'].unique())\n",
    "print(data_2017['tipo_vehiculo'].unique())"
   ]
  },
  {
   "cell_type": "code",
   "execution_count": 9,
   "metadata": {
    "colab": {
     "base_uri": "https://localhost:8080/",
     "height": 127
    },
    "id": "_m8VhDhtId2k",
    "outputId": "a4bc17f3-f059-44d3-a23e-a514f4a371a7"
   },
   "outputs": [
    {
     "name": "stdout",
     "output_type": "stream",
     "text": [
      "['NO COBRADO' 'TELEPASE' 'EFECTIVO' 'EXENTO' 'INFRACCION'\n",
      " 'T. DISCAPACIDAD']\n",
      "['NO COBRADO' 'TELEPASE' 'EFECTIVO' 'EXENTO' 'TARJETA DISCAPACIDAD'\n",
      " 'INFRACCION']\n",
      "['NO COBRADO' 'TELEPASE' 'EFECTIVO' 'TARJETA DISCAPACIDAD' 'EXENTO'\n",
      " 'INFRACCION' 'MONEDERO' 'Otros']\n"
     ]
    }
   ],
   "source": [
    "print(data_2019['forma_pago'].unique())\n",
    "print(data_2018['forma_pago'].unique())\n",
    "print(data_2017['forma_pago'].unique())"
   ]
  },
  {
   "cell_type": "code",
   "execution_count": 10,
   "metadata": {},
   "outputs": [
    {
     "name": "stdout",
     "output_type": "stream",
     "text": [
      "['NO COBRADO' 'TELEPASE' 'EFECTIVO' 'EXENTO' 'INFRACCION'\n",
      " 'TARJETA DISCAPACIDAD']\n"
     ]
    }
   ],
   "source": [
    "data_2019['forma_pago'] = data_2019['forma_pago'].replace(['T. DISCAPACIDAD'],'TARJETA DISCAPACIDAD')\n",
    "print(data_2019['forma_pago'].unique())"
   ]
  },
  {
   "cell_type": "markdown",
   "metadata": {
    "id": "OUImrZ0HId2q"
   },
   "source": [
    "##### Podemos decir entonces que los años 2017, 2018 y 2019 tienen las siguientes columnas con la siguiente información:\n",
    "\n",
    "**periodo**: año del dset \n",
    "\n",
    "**fecha**: año dia mes\n",
    "\n",
    "**hora_inicio** hora de inicio de la cuenta de vehiculos (DROP)\n",
    "\n",
    "**hora_fin** hora de fin de la cuenta de vehiculos (Vamos a usar esta para tomar la hora)\n",
    "\n",
    "**dia**: dia de la semana \n",
    "\n",
    "**estacion**: estaciones de peaje, difieren levemente entre los años (Dellepiane se unifica en 2019, antes habia Dellepiane Liniers y Centro, y se agrega PDB)\n",
    "\n",
    "**sentido**: Centro o Provincia\n",
    "\n",
    "**tipo_vehiculo**: Liviano o Pesado\n",
    "\n",
    "**forma_pago**: Hay varias y varian entre los años.\n",
    "\n",
    "**cantidad_pasos**: Cantidad de vehiculos"
   ]
  },
  {
   "cell_type": "markdown",
   "metadata": {
    "id": "cDmDNVJDId2r"
   },
   "source": [
    "Vamos a estar trabajando con la estación **Illia** y la forma de pago **Efectivo**\n"
   ]
  },
  {
   "cell_type": "code",
   "execution_count": 11,
   "metadata": {
    "colab": {
     "base_uri": "https://localhost:8080/",
     "height": 206
    },
    "id": "SOUCg2f7Id2s",
    "outputId": "801ecb26-47dc-4a16-bc17-a02e6bb0c99c"
   },
   "outputs": [
    {
     "data": {
      "text/html": [
       "<div>\n",
       "<style scoped>\n",
       "    .dataframe tbody tr th:only-of-type {\n",
       "        vertical-align: middle;\n",
       "    }\n",
       "\n",
       "    .dataframe tbody tr th {\n",
       "        vertical-align: top;\n",
       "    }\n",
       "\n",
       "    .dataframe thead th {\n",
       "        text-align: right;\n",
       "    }\n",
       "</style>\n",
       "<table border=\"1\" class=\"dataframe\">\n",
       "  <thead>\n",
       "    <tr style=\"text-align: right;\">\n",
       "      <th></th>\n",
       "      <th>fecha</th>\n",
       "      <th>hora_fin</th>\n",
       "      <th>dia</th>\n",
       "      <th>sentido</th>\n",
       "      <th>tipo_vehiculo</th>\n",
       "      <th>cantidad_pasos</th>\n",
       "    </tr>\n",
       "  </thead>\n",
       "  <tbody>\n",
       "    <tr>\n",
       "      <th>80</th>\n",
       "      <td>2019-01-01</td>\n",
       "      <td>2</td>\n",
       "      <td>Martes</td>\n",
       "      <td>Centro</td>\n",
       "      <td>Liviano</td>\n",
       "      <td>537</td>\n",
       "    </tr>\n",
       "    <tr>\n",
       "      <th>86</th>\n",
       "      <td>2019-01-01</td>\n",
       "      <td>2</td>\n",
       "      <td>Martes</td>\n",
       "      <td>Centro</td>\n",
       "      <td>Pesado</td>\n",
       "      <td>1</td>\n",
       "    </tr>\n",
       "    <tr>\n",
       "      <th>88</th>\n",
       "      <td>2019-01-01</td>\n",
       "      <td>2</td>\n",
       "      <td>Martes</td>\n",
       "      <td>Provincia</td>\n",
       "      <td>Liviano</td>\n",
       "      <td>443</td>\n",
       "    </tr>\n",
       "    <tr>\n",
       "      <th>94</th>\n",
       "      <td>2019-01-01</td>\n",
       "      <td>2</td>\n",
       "      <td>Martes</td>\n",
       "      <td>Provincia</td>\n",
       "      <td>Pesado</td>\n",
       "      <td>1</td>\n",
       "    </tr>\n",
       "    <tr>\n",
       "      <th>149</th>\n",
       "      <td>2019-01-01</td>\n",
       "      <td>3</td>\n",
       "      <td>Martes</td>\n",
       "      <td>Centro</td>\n",
       "      <td>Liviano</td>\n",
       "      <td>769</td>\n",
       "    </tr>\n",
       "  </tbody>\n",
       "</table>\n",
       "</div>"
      ],
      "text/plain": [
       "          fecha  hora_fin     dia    sentido tipo_vehiculo  cantidad_pasos\n",
       "80   2019-01-01         2  Martes     Centro       Liviano             537\n",
       "86   2019-01-01         2  Martes     Centro        Pesado               1\n",
       "88   2019-01-01         2  Martes  Provincia       Liviano             443\n",
       "94   2019-01-01         2  Martes  Provincia        Pesado               1\n",
       "149  2019-01-01         3  Martes     Centro       Liviano             769"
      ]
     },
     "execution_count": 11,
     "metadata": {},
     "output_type": "execute_result"
    }
   ],
   "source": [
    "#Unimos los 3 datasets, podemos hacerlo asi directamente ya que tienen las mismas columnas\n",
    "dataset = pd.concat([data_2019, data_2018, data_2017])\n",
    "\n",
    "#Nos quedamos solamente con la estación Illia y la forma de pago Efectivo\n",
    "mask = np.logical_and(dataset.estacion=='Illia', dataset.forma_pago == 'EFECTIVO')\n",
    "dataset = dataset[mask]\n",
    "\n",
    "#Quitamos las columnas que no vamos a utilizar\n",
    "dataset.drop(columns = ['periodo','hora_inicio','forma_pago', 'estacion'], inplace = True)\n",
    "\n",
    "dataset.head()"
   ]
  },
  {
   "cell_type": "code",
   "execution_count": 12,
   "metadata": {
    "colab": {
     "base_uri": "https://localhost:8080/",
     "height": 300
    },
    "id": "tDI8fnOkDsnn",
    "outputId": "b9692b3e-2234-41ef-ba1c-269740ec161b"
   },
   "outputs": [
    {
     "data": {
      "text/html": [
       "<div>\n",
       "<style scoped>\n",
       "    .dataframe tbody tr th:only-of-type {\n",
       "        vertical-align: middle;\n",
       "    }\n",
       "\n",
       "    .dataframe tbody tr th {\n",
       "        vertical-align: top;\n",
       "    }\n",
       "\n",
       "    .dataframe thead th {\n",
       "        text-align: right;\n",
       "    }\n",
       "</style>\n",
       "<table border=\"1\" class=\"dataframe\">\n",
       "  <thead>\n",
       "    <tr style=\"text-align: right;\">\n",
       "      <th></th>\n",
       "      <th>hora_fin</th>\n",
       "      <th>cantidad_pasos</th>\n",
       "    </tr>\n",
       "  </thead>\n",
       "  <tbody>\n",
       "    <tr>\n",
       "      <th>count</th>\n",
       "      <td>238869.00</td>\n",
       "      <td>238869.00</td>\n",
       "    </tr>\n",
       "    <tr>\n",
       "      <th>mean</th>\n",
       "      <td>11.87</td>\n",
       "      <td>200.38</td>\n",
       "    </tr>\n",
       "    <tr>\n",
       "      <th>std</th>\n",
       "      <td>6.74</td>\n",
       "      <td>403.25</td>\n",
       "    </tr>\n",
       "    <tr>\n",
       "      <th>min</th>\n",
       "      <td>0.00</td>\n",
       "      <td>1.00</td>\n",
       "    </tr>\n",
       "    <tr>\n",
       "      <th>25%</th>\n",
       "      <td>6.00</td>\n",
       "      <td>2.00</td>\n",
       "    </tr>\n",
       "    <tr>\n",
       "      <th>50%</th>\n",
       "      <td>12.00</td>\n",
       "      <td>11.00</td>\n",
       "    </tr>\n",
       "    <tr>\n",
       "      <th>75%</th>\n",
       "      <td>18.00</td>\n",
       "      <td>104.00</td>\n",
       "    </tr>\n",
       "    <tr>\n",
       "      <th>max</th>\n",
       "      <td>23.00</td>\n",
       "      <td>2416.00</td>\n",
       "    </tr>\n",
       "  </tbody>\n",
       "</table>\n",
       "</div>"
      ],
      "text/plain": [
       "        hora_fin  cantidad_pasos\n",
       "count  238869.00       238869.00\n",
       "mean       11.87          200.38\n",
       "std         6.74          403.25\n",
       "min         0.00            1.00\n",
       "25%         6.00            2.00\n",
       "50%        12.00           11.00\n",
       "75%        18.00          104.00\n",
       "max        23.00         2416.00"
      ]
     },
     "execution_count": 12,
     "metadata": {},
     "output_type": "execute_result"
    }
   ],
   "source": [
    "dataset.describe().round(decimals=2)"
   ]
  },
  {
   "cell_type": "code",
   "execution_count": 13,
   "metadata": {
    "colab": {
     "base_uri": "https://localhost:8080/",
     "height": 206
    },
    "id": "kLi3lxc_Id2x",
    "outputId": "15206734-3184-41c2-884b-88b3cb0eb2f9"
   },
   "outputs": [
    {
     "data": {
      "text/html": [
       "<div>\n",
       "<style scoped>\n",
       "    .dataframe tbody tr th:only-of-type {\n",
       "        vertical-align: middle;\n",
       "    }\n",
       "\n",
       "    .dataframe tbody tr th {\n",
       "        vertical-align: top;\n",
       "    }\n",
       "\n",
       "    .dataframe thead th {\n",
       "        text-align: right;\n",
       "    }\n",
       "</style>\n",
       "<table border=\"1\" class=\"dataframe\">\n",
       "  <thead>\n",
       "    <tr style=\"text-align: right;\">\n",
       "      <th></th>\n",
       "      <th>dia</th>\n",
       "      <th>sentido</th>\n",
       "      <th>tipo_vehiculo</th>\n",
       "      <th>cantidad_pasos</th>\n",
       "      <th>fecha2</th>\n",
       "    </tr>\n",
       "  </thead>\n",
       "  <tbody>\n",
       "    <tr>\n",
       "      <th>80</th>\n",
       "      <td>Martes</td>\n",
       "      <td>Centro</td>\n",
       "      <td>Liviano</td>\n",
       "      <td>537</td>\n",
       "      <td>2019-01-01 02:00:00</td>\n",
       "    </tr>\n",
       "    <tr>\n",
       "      <th>86</th>\n",
       "      <td>Martes</td>\n",
       "      <td>Centro</td>\n",
       "      <td>Pesado</td>\n",
       "      <td>1</td>\n",
       "      <td>2019-01-01 02:00:00</td>\n",
       "    </tr>\n",
       "    <tr>\n",
       "      <th>88</th>\n",
       "      <td>Martes</td>\n",
       "      <td>Provincia</td>\n",
       "      <td>Liviano</td>\n",
       "      <td>443</td>\n",
       "      <td>2019-01-01 02:00:00</td>\n",
       "    </tr>\n",
       "    <tr>\n",
       "      <th>94</th>\n",
       "      <td>Martes</td>\n",
       "      <td>Provincia</td>\n",
       "      <td>Pesado</td>\n",
       "      <td>1</td>\n",
       "      <td>2019-01-01 02:00:00</td>\n",
       "    </tr>\n",
       "    <tr>\n",
       "      <th>149</th>\n",
       "      <td>Martes</td>\n",
       "      <td>Centro</td>\n",
       "      <td>Liviano</td>\n",
       "      <td>769</td>\n",
       "      <td>2019-01-01 03:00:00</td>\n",
       "    </tr>\n",
       "  </tbody>\n",
       "</table>\n",
       "</div>"
      ],
      "text/plain": [
       "        dia    sentido tipo_vehiculo  cantidad_pasos              fecha2\n",
       "80   Martes     Centro       Liviano             537 2019-01-01 02:00:00\n",
       "86   Martes     Centro        Pesado               1 2019-01-01 02:00:00\n",
       "88   Martes  Provincia       Liviano             443 2019-01-01 02:00:00\n",
       "94   Martes  Provincia        Pesado               1 2019-01-01 02:00:00\n",
       "149  Martes     Centro       Liviano             769 2019-01-01 03:00:00"
      ]
     },
     "execution_count": 13,
     "metadata": {},
     "output_type": "execute_result"
    }
   ],
   "source": [
    "#Pasamos la columna fecha a formato datetime, y le unimos la hora_fin como hora\n",
    "dataset['fecha2'] = pd.to_datetime(dataset.fecha) + pd.to_timedelta(dataset.hora_fin, unit = 'h')\n",
    "\n",
    "#Quitamos las columnas fecha y hora_fin ya que las incluimos en el campo fecha2\n",
    "dataset.drop(columns=['fecha','hora_fin'], inplace = True)\n",
    "\n",
    "dataset.head()"
   ]
  },
  {
   "cell_type": "code",
   "execution_count": 14,
   "metadata": {
    "colab": {
     "base_uri": "https://localhost:8080/",
     "height": 206
    },
    "id": "8coELKbyId23",
    "outputId": "13458c53-a466-426a-805d-54c6ed7583e7"
   },
   "outputs": [
    {
     "data": {
      "text/html": [
       "<div>\n",
       "<style scoped>\n",
       "    .dataframe tbody tr th:only-of-type {\n",
       "        vertical-align: middle;\n",
       "    }\n",
       "\n",
       "    .dataframe tbody tr th {\n",
       "        vertical-align: top;\n",
       "    }\n",
       "\n",
       "    .dataframe thead th {\n",
       "        text-align: right;\n",
       "    }\n",
       "</style>\n",
       "<table border=\"1\" class=\"dataframe\">\n",
       "  <thead>\n",
       "    <tr style=\"text-align: right;\">\n",
       "      <th></th>\n",
       "      <th>dia</th>\n",
       "      <th>sentido</th>\n",
       "      <th>tipo_vehiculo</th>\n",
       "      <th>cantidad_pasos</th>\n",
       "      <th>fecha</th>\n",
       "    </tr>\n",
       "  </thead>\n",
       "  <tbody>\n",
       "    <tr>\n",
       "      <th>80</th>\n",
       "      <td>Martes</td>\n",
       "      <td>Centro</td>\n",
       "      <td>Liviano</td>\n",
       "      <td>537</td>\n",
       "      <td>2019-01-01 02:00:00</td>\n",
       "    </tr>\n",
       "    <tr>\n",
       "      <th>86</th>\n",
       "      <td>Martes</td>\n",
       "      <td>Centro</td>\n",
       "      <td>Pesado</td>\n",
       "      <td>1</td>\n",
       "      <td>2019-01-01 02:00:00</td>\n",
       "    </tr>\n",
       "    <tr>\n",
       "      <th>88</th>\n",
       "      <td>Martes</td>\n",
       "      <td>Provincia</td>\n",
       "      <td>Liviano</td>\n",
       "      <td>443</td>\n",
       "      <td>2019-01-01 02:00:00</td>\n",
       "    </tr>\n",
       "    <tr>\n",
       "      <th>94</th>\n",
       "      <td>Martes</td>\n",
       "      <td>Provincia</td>\n",
       "      <td>Pesado</td>\n",
       "      <td>1</td>\n",
       "      <td>2019-01-01 02:00:00</td>\n",
       "    </tr>\n",
       "    <tr>\n",
       "      <th>149</th>\n",
       "      <td>Martes</td>\n",
       "      <td>Centro</td>\n",
       "      <td>Liviano</td>\n",
       "      <td>769</td>\n",
       "      <td>2019-01-01 03:00:00</td>\n",
       "    </tr>\n",
       "  </tbody>\n",
       "</table>\n",
       "</div>"
      ],
      "text/plain": [
       "        dia    sentido tipo_vehiculo  cantidad_pasos               fecha\n",
       "80   Martes     Centro       Liviano             537 2019-01-01 02:00:00\n",
       "86   Martes     Centro        Pesado               1 2019-01-01 02:00:00\n",
       "88   Martes  Provincia       Liviano             443 2019-01-01 02:00:00\n",
       "94   Martes  Provincia        Pesado               1 2019-01-01 02:00:00\n",
       "149  Martes     Centro       Liviano             769 2019-01-01 03:00:00"
      ]
     },
     "execution_count": 14,
     "metadata": {},
     "output_type": "execute_result"
    }
   ],
   "source": [
    "#Corregimos el nombre de fecha2 a fecha\n",
    "dataset.rename(columns = {'fecha2':'fecha'}, inplace = True) \n",
    "dataset.head()"
   ]
  },
  {
   "cell_type": "code",
   "execution_count": 15,
   "metadata": {
    "colab": {
     "base_uri": "https://localhost:8080/",
     "height": 424
    },
    "id": "Z4Uzn2ktId29",
    "outputId": "c9078417-b8dc-4ec3-ffc8-d2616706cc7e"
   },
   "outputs": [
    {
     "data": {
      "text/html": [
       "<div>\n",
       "<style scoped>\n",
       "    .dataframe tbody tr th:only-of-type {\n",
       "        vertical-align: middle;\n",
       "    }\n",
       "\n",
       "    .dataframe tbody tr th {\n",
       "        vertical-align: top;\n",
       "    }\n",
       "\n",
       "    .dataframe thead th {\n",
       "        text-align: right;\n",
       "    }\n",
       "</style>\n",
       "<table border=\"1\" class=\"dataframe\">\n",
       "  <thead>\n",
       "    <tr style=\"text-align: right;\">\n",
       "      <th></th>\n",
       "      <th>dia</th>\n",
       "      <th>sentido</th>\n",
       "      <th>tipo_vehiculo</th>\n",
       "      <th>cantidad_pasos</th>\n",
       "      <th>fecha</th>\n",
       "    </tr>\n",
       "  </thead>\n",
       "  <tbody>\n",
       "    <tr>\n",
       "      <th>0</th>\n",
       "      <td>Domingo</td>\n",
       "      <td>Provincia</td>\n",
       "      <td>Pesado</td>\n",
       "      <td>1</td>\n",
       "      <td>2017-01-01 00:00:00</td>\n",
       "    </tr>\n",
       "    <tr>\n",
       "      <th>1</th>\n",
       "      <td>Domingo</td>\n",
       "      <td>Provincia</td>\n",
       "      <td>Liviano</td>\n",
       "      <td>9</td>\n",
       "      <td>2017-01-01 00:00:00</td>\n",
       "    </tr>\n",
       "    <tr>\n",
       "      <th>2</th>\n",
       "      <td>Domingo</td>\n",
       "      <td>Provincia</td>\n",
       "      <td>Liviano</td>\n",
       "      <td>644</td>\n",
       "      <td>2017-01-01 00:00:00</td>\n",
       "    </tr>\n",
       "    <tr>\n",
       "      <th>3</th>\n",
       "      <td>Domingo</td>\n",
       "      <td>Provincia</td>\n",
       "      <td>Pesado</td>\n",
       "      <td>6</td>\n",
       "      <td>2017-01-01 00:00:00</td>\n",
       "    </tr>\n",
       "    <tr>\n",
       "      <th>4</th>\n",
       "      <td>Domingo</td>\n",
       "      <td>Provincia</td>\n",
       "      <td>Pesado</td>\n",
       "      <td>1</td>\n",
       "      <td>2017-01-01 00:00:00</td>\n",
       "    </tr>\n",
       "    <tr>\n",
       "      <th>...</th>\n",
       "      <td>...</td>\n",
       "      <td>...</td>\n",
       "      <td>...</td>\n",
       "      <td>...</td>\n",
       "      <td>...</td>\n",
       "    </tr>\n",
       "    <tr>\n",
       "      <th>238864</th>\n",
       "      <td>Martes</td>\n",
       "      <td>Provincia</td>\n",
       "      <td>Liviano</td>\n",
       "      <td>556</td>\n",
       "      <td>2019-12-31 22:00:00</td>\n",
       "    </tr>\n",
       "    <tr>\n",
       "      <th>238865</th>\n",
       "      <td>Martes</td>\n",
       "      <td>Provincia</td>\n",
       "      <td>Pesado</td>\n",
       "      <td>1</td>\n",
       "      <td>2019-12-31 22:00:00</td>\n",
       "    </tr>\n",
       "    <tr>\n",
       "      <th>238866</th>\n",
       "      <td>Martes</td>\n",
       "      <td>Centro</td>\n",
       "      <td>Liviano</td>\n",
       "      <td>580</td>\n",
       "      <td>2019-12-31 22:00:00</td>\n",
       "    </tr>\n",
       "    <tr>\n",
       "      <th>238867</th>\n",
       "      <td>Martes</td>\n",
       "      <td>Centro</td>\n",
       "      <td>Liviano</td>\n",
       "      <td>214</td>\n",
       "      <td>2019-12-31 23:00:00</td>\n",
       "    </tr>\n",
       "    <tr>\n",
       "      <th>238868</th>\n",
       "      <td>Martes</td>\n",
       "      <td>Provincia</td>\n",
       "      <td>Liviano</td>\n",
       "      <td>190</td>\n",
       "      <td>2019-12-31 23:00:00</td>\n",
       "    </tr>\n",
       "  </tbody>\n",
       "</table>\n",
       "<p>238869 rows × 5 columns</p>\n",
       "</div>"
      ],
      "text/plain": [
       "            dia    sentido tipo_vehiculo  cantidad_pasos               fecha\n",
       "0       Domingo  Provincia        Pesado               1 2017-01-01 00:00:00\n",
       "1       Domingo  Provincia       Liviano               9 2017-01-01 00:00:00\n",
       "2       Domingo  Provincia       Liviano             644 2017-01-01 00:00:00\n",
       "3       Domingo  Provincia        Pesado               6 2017-01-01 00:00:00\n",
       "4       Domingo  Provincia        Pesado               1 2017-01-01 00:00:00\n",
       "...         ...        ...           ...             ...                 ...\n",
       "238864   Martes  Provincia       Liviano             556 2019-12-31 22:00:00\n",
       "238865   Martes  Provincia        Pesado               1 2019-12-31 22:00:00\n",
       "238866   Martes     Centro       Liviano             580 2019-12-31 22:00:00\n",
       "238867   Martes     Centro       Liviano             214 2019-12-31 23:00:00\n",
       "238868   Martes  Provincia       Liviano             190 2019-12-31 23:00:00\n",
       "\n",
       "[238869 rows x 5 columns]"
      ]
     },
     "execution_count": 15,
     "metadata": {},
     "output_type": "execute_result"
    }
   ],
   "source": [
    "#Reordenamos el dataset por fecha\n",
    "dataset.sort_values('fecha', inplace = True)\n",
    "dataset.reset_index(drop=True, inplace = True)\n",
    "dataset"
   ]
  },
  {
   "cell_type": "markdown",
   "metadata": {
    "id": "m0g3iQfn1QqW"
   },
   "source": [
    "# **Acámica**"
   ]
  },
  {
   "cell_type": "code",
   "execution_count": 16,
   "metadata": {
    "colab": {
     "base_uri": "https://localhost:8080/",
     "height": 388
    },
    "id": "ZzYn6u95Id3B",
    "outputId": "d471d961-66f9-4a52-cac2-2f1d77a30436"
   },
   "outputs": [
    {
     "data": {
      "image/png": "[encoded data removed]",
      "text/plain": [
       "<Figure size 1440x720 with 1 Axes>"
      ]
     },
     "metadata": {
      "needs_background": "light"
     },
     "output_type": "display_data"
    }
   ],
   "source": [
    "#Graficamos nuestros datos, tal como están\n",
    "plt.figure(figsize = (20,10))\n",
    "plt.plot(dataset.fecha, dataset.cantidad_pasos)\n",
    "plt.xlabel('Fecha')\n",
    "plt.ylabel('Cantidad de autos, por hora')\n",
    "#plt.tick_params(labelsize=8, rotation=90)\n",
    "plt.gcf().autofmt_xdate()\n",
    "plt.show()"
   ]
  },
  {
   "cell_type": "code",
   "execution_count": 17,
   "metadata": {
    "colab": {
     "base_uri": "https://localhost:8080/",
     "height": 256
    },
    "id": "amoQFmNpId3F",
    "outputId": "9402fd63-7ea6-4f14-fb1a-f70d459896aa"
   },
   "outputs": [
    {
     "name": "stdout",
     "output_type": "stream",
     "text": [
      "(1095, 1)\n"
     ]
    },
    {
     "data": {
      "text/html": [
       "<div>\n",
       "<style scoped>\n",
       "    .dataframe tbody tr th:only-of-type {\n",
       "        vertical-align: middle;\n",
       "    }\n",
       "\n",
       "    .dataframe tbody tr th {\n",
       "        vertical-align: top;\n",
       "    }\n",
       "\n",
       "    .dataframe thead th {\n",
       "        text-align: right;\n",
       "    }\n",
       "</style>\n",
       "<table border=\"1\" class=\"dataframe\">\n",
       "  <thead>\n",
       "    <tr style=\"text-align: right;\">\n",
       "      <th></th>\n",
       "      <th>cantidad_pasos</th>\n",
       "    </tr>\n",
       "    <tr>\n",
       "      <th>fecha</th>\n",
       "      <th></th>\n",
       "    </tr>\n",
       "  </thead>\n",
       "  <tbody>\n",
       "    <tr>\n",
       "      <th>2017-01-01</th>\n",
       "      <td>31183</td>\n",
       "    </tr>\n",
       "    <tr>\n",
       "      <th>2017-01-02</th>\n",
       "      <td>51568</td>\n",
       "    </tr>\n",
       "    <tr>\n",
       "      <th>2017-01-03</th>\n",
       "      <td>51093</td>\n",
       "    </tr>\n",
       "    <tr>\n",
       "      <th>2017-01-04</th>\n",
       "      <td>53332</td>\n",
       "    </tr>\n",
       "    <tr>\n",
       "      <th>2017-01-05</th>\n",
       "      <td>56486</td>\n",
       "    </tr>\n",
       "  </tbody>\n",
       "</table>\n",
       "</div>"
      ],
      "text/plain": [
       "            cantidad_pasos\n",
       "fecha                     \n",
       "2017-01-01           31183\n",
       "2017-01-02           51568\n",
       "2017-01-03           51093\n",
       "2017-01-04           53332\n",
       "2017-01-05           56486"
      ]
     },
     "execution_count": 17,
     "metadata": {},
     "output_type": "execute_result"
    }
   ],
   "source": [
    "#Resampleamos nuestros datos para agrupar por dia, y asi tal vez lograr una visualización mas amigable\n",
    "diario = dataset.resample('D', on = 'fecha').sum()\n",
    "print(diario.shape)\n",
    "diario.head()"
   ]
  },
  {
   "cell_type": "code",
   "execution_count": 18,
   "metadata": {
    "colab": {
     "base_uri": "https://localhost:8080/",
     "height": 388
    },
    "id": "JgqZaiEDId3L",
    "outputId": "a4fa454f-cc22-4003-a46c-3d932b116570"
   },
   "outputs": [
    {
     "data": {
      "image/png": "[encoded data removed]",
      "text/plain": [
       "<Figure size 1440x720 with 1 Axes>"
      ]
     },
     "metadata": {
      "needs_background": "light"
     },
     "output_type": "display_data"
    }
   ],
   "source": [
    "plt.figure(figsize = (20,10))\n",
    "plt.plot(diario.index, diario.cantidad_pasos)\n",
    "plt.xlabel('Tiempo')\n",
    "plt.ylabel('Cantidad de autos, por dia')\n",
    "plt.gcf().autofmt_xdate()\n",
    "plt.show()"
   ]
  },
  {
   "cell_type": "code",
   "execution_count": 19,
   "metadata": {
    "colab": {
     "base_uri": "https://localhost:8080/",
     "height": 256
    },
    "id": "vfwxE2VXId3O",
    "outputId": "73b8bcc0-0636-4f07-e096-e8b146a73675"
   },
   "outputs": [
    {
     "name": "stdout",
     "output_type": "stream",
     "text": [
      "(158, 1)\n"
     ]
    },
    {
     "data": {
      "text/html": [
       "<div>\n",
       "<style scoped>\n",
       "    .dataframe tbody tr th:only-of-type {\n",
       "        vertical-align: middle;\n",
       "    }\n",
       "\n",
       "    .dataframe tbody tr th {\n",
       "        vertical-align: top;\n",
       "    }\n",
       "\n",
       "    .dataframe thead th {\n",
       "        text-align: right;\n",
       "    }\n",
       "</style>\n",
       "<table border=\"1\" class=\"dataframe\">\n",
       "  <thead>\n",
       "    <tr style=\"text-align: right;\">\n",
       "      <th></th>\n",
       "      <th>cantidad_pasos</th>\n",
       "    </tr>\n",
       "    <tr>\n",
       "      <th>fecha</th>\n",
       "      <th></th>\n",
       "    </tr>\n",
       "  </thead>\n",
       "  <tbody>\n",
       "    <tr>\n",
       "      <th>2017-01-01</th>\n",
       "      <td>31183</td>\n",
       "    </tr>\n",
       "    <tr>\n",
       "      <th>2017-01-08</th>\n",
       "      <td>347212</td>\n",
       "    </tr>\n",
       "    <tr>\n",
       "      <th>2017-01-15</th>\n",
       "      <td>366413</td>\n",
       "    </tr>\n",
       "    <tr>\n",
       "      <th>2017-01-22</th>\n",
       "      <td>357215</td>\n",
       "    </tr>\n",
       "    <tr>\n",
       "      <th>2017-01-29</th>\n",
       "      <td>354581</td>\n",
       "    </tr>\n",
       "  </tbody>\n",
       "</table>\n",
       "</div>"
      ],
      "text/plain": [
       "            cantidad_pasos\n",
       "fecha                     \n",
       "2017-01-01           31183\n",
       "2017-01-08          347212\n",
       "2017-01-15          366413\n",
       "2017-01-22          357215\n",
       "2017-01-29          354581"
      ]
     },
     "execution_count": 19,
     "metadata": {},
     "output_type": "execute_result"
    }
   ],
   "source": [
    "#Resampleamos nuestros datos para agrupar por semana, y asi tal vez lograr una visualización mas amigable\n",
    "semana = dataset.resample('W', on = 'fecha').sum()\n",
    "print(semana.shape)\n",
    "semana.head()"
   ]
  },
  {
   "cell_type": "code",
   "execution_count": 20,
   "metadata": {},
   "outputs": [
    {
     "data": {
      "image/png": "[encoded data removed]",
      "text/plain": [
       "<Figure size 1440x720 with 1 Axes>"
      ]
     },
     "metadata": {
      "needs_background": "light"
     },
     "output_type": "display_data"
    }
   ],
   "source": [
    "plt.figure(figsize = (20,10))\n",
    "plt.plot(semana.index, semana.cantidad_pasos)\n",
    "plt.xlabel('Tiempo')\n",
    "plt.ylabel('Cantidad de autos, por semana')\n",
    "plt.gcf().autofmt_xdate()\n",
    "plt.show()"
   ]
  },
  {
   "cell_type": "code",
   "execution_count": 28,
   "metadata": {
    "colab": {
     "base_uri": "https://localhost:8080/",
     "height": 256
    },
    "id": "0a8Zib-m3TDb",
    "outputId": "c0e01e6b-a4bd-44c9-b2b0-1bea9435a3b3"
   },
   "outputs": [
    {
     "name": "stdout",
     "output_type": "stream",
     "text": [
      "(36, 1)\n"
     ]
    },
    {
     "data": {
      "text/html": [
       "<div>\n",
       "<style scoped>\n",
       "    .dataframe tbody tr th:only-of-type {\n",
       "        vertical-align: middle;\n",
       "    }\n",
       "\n",
       "    .dataframe tbody tr th {\n",
       "        vertical-align: top;\n",
       "    }\n",
       "\n",
       "    .dataframe thead th {\n",
       "        text-align: right;\n",
       "    }\n",
       "</style>\n",
       "<table border=\"1\" class=\"dataframe\">\n",
       "  <thead>\n",
       "    <tr style=\"text-align: right;\">\n",
       "      <th></th>\n",
       "      <th>cantidad_pasos</th>\n",
       "    </tr>\n",
       "    <tr>\n",
       "      <th>fecha</th>\n",
       "      <th></th>\n",
       "    </tr>\n",
       "  </thead>\n",
       "  <tbody>\n",
       "    <tr>\n",
       "      <th>2017-01-31</th>\n",
       "      <td>1565260</td>\n",
       "    </tr>\n",
       "    <tr>\n",
       "      <th>2017-02-28</th>\n",
       "      <td>1363113</td>\n",
       "    </tr>\n",
       "    <tr>\n",
       "      <th>2017-03-31</th>\n",
       "      <td>1451214</td>\n",
       "    </tr>\n",
       "    <tr>\n",
       "      <th>2017-04-30</th>\n",
       "      <td>1373985</td>\n",
       "    </tr>\n",
       "    <tr>\n",
       "      <th>2017-05-31</th>\n",
       "      <td>1407136</td>\n",
       "    </tr>\n",
       "  </tbody>\n",
       "</table>\n",
       "</div>"
      ],
      "text/plain": [
       "            cantidad_pasos\n",
       "fecha                     \n",
       "2017-01-31         1565260\n",
       "2017-02-28         1363113\n",
       "2017-03-31         1451214\n",
       "2017-04-30         1373985\n",
       "2017-05-31         1407136"
      ]
     },
     "execution_count": 28,
     "metadata": {},
     "output_type": "execute_result"
    }
   ],
   "source": [
    "#Resampleamos nuestros datos para agrupar por mes, y asi tal vez lograr una visualización mas amigable\n",
    "mes = dataset.resample('M', on = 'fecha').sum()\n",
    "print(mes.shape)\n",
    "mes.head()"
   ]
  },
  {
   "cell_type": "code",
   "execution_count": 34,
   "metadata": {
    "colab": {
     "base_uri": "https://localhost:8080/",
     "height": 399
    },
    "id": "7vdBfjpr3Yyp",
    "outputId": "ea32b036-2811-4a56-beb7-fb8dffa8e46d"
   },
   "outputs": [
    {
     "data": {
      "image/png": "[encoded data removed]",
      "text/plain": [
       "<Figure size 1440x720 with 1 Axes>"
      ]
     },
     "metadata": {
      "needs_background": "light"
     },
     "output_type": "display_data"
    }
   ],
   "source": [
    "plt.figure(figsize = (20,10))\n",
    "plt.plot(mes.index, mes.cantidad_pasos)\n",
    "plt.xlabel('Tiempo')\n",
    "plt.ylabel('Cantidad de autos, por mes')\n",
    "plt.gcf().autofmt_xdate()\n",
    "plt.show()"
   ]
  },
  {
   "cell_type": "code",
   "execution_count": 30,
   "metadata": {},
   "outputs": [
    {
     "name": "stdout",
     "output_type": "stream",
     "text": [
      "(26280, 1)\n"
     ]
    },
    {
     "data": {
      "text/html": [
       "<div>\n",
       "<style scoped>\n",
       "    .dataframe tbody tr th:only-of-type {\n",
       "        vertical-align: middle;\n",
       "    }\n",
       "\n",
       "    .dataframe tbody tr th {\n",
       "        vertical-align: top;\n",
       "    }\n",
       "\n",
       "    .dataframe thead th {\n",
       "        text-align: right;\n",
       "    }\n",
       "</style>\n",
       "<table border=\"1\" class=\"dataframe\">\n",
       "  <thead>\n",
       "    <tr style=\"text-align: right;\">\n",
       "      <th></th>\n",
       "      <th>cantidad_pasos</th>\n",
       "    </tr>\n",
       "    <tr>\n",
       "      <th>fecha</th>\n",
       "      <th></th>\n",
       "    </tr>\n",
       "  </thead>\n",
       "  <tbody>\n",
       "    <tr>\n",
       "      <th>2017-01-01 00:00:00</th>\n",
       "      <td>1576</td>\n",
       "    </tr>\n",
       "    <tr>\n",
       "      <th>2017-01-01 01:00:00</th>\n",
       "      <td>1</td>\n",
       "    </tr>\n",
       "    <tr>\n",
       "      <th>2017-01-01 02:00:00</th>\n",
       "      <td>1374</td>\n",
       "    </tr>\n",
       "    <tr>\n",
       "      <th>2017-01-01 03:00:00</th>\n",
       "      <td>1734</td>\n",
       "    </tr>\n",
       "    <tr>\n",
       "      <th>2017-01-01 04:00:00</th>\n",
       "      <td>1247</td>\n",
       "    </tr>\n",
       "  </tbody>\n",
       "</table>\n",
       "</div>"
      ],
      "text/plain": [
       "                     cantidad_pasos\n",
       "fecha                              \n",
       "2017-01-01 00:00:00            1576\n",
       "2017-01-01 01:00:00               1\n",
       "2017-01-01 02:00:00            1374\n",
       "2017-01-01 03:00:00            1734\n",
       "2017-01-01 04:00:00            1247"
      ]
     },
     "execution_count": 30,
     "metadata": {},
     "output_type": "execute_result"
    }
   ],
   "source": [
    "#Resampleamos nuestros datos para agrupar por hora, y asi tal vez lograr una visualización mas amigable\n",
    "hora = dataset.resample('H', on = 'fecha').sum()\n",
    "print(hora.shape)\n",
    "hora.head()"
   ]
  },
  {
   "cell_type": "code",
   "execution_count": 35,
   "metadata": {},
   "outputs": [
    {
     "data": {
      "image/png": "[encoded data removed]",
      "text/plain": [
       "<Figure size 1440x720 with 1 Axes>"
      ]
     },
     "metadata": {
      "needs_background": "light"
     },
     "output_type": "display_data"
    }
   ],
   "source": [
    "plt.figure(figsize = (20,10))\n",
    "plt.plot(hora.index, hora.cantidad_pasos)\n",
    "plt.xlabel('Tiempo')\n",
    "plt.ylabel('Cantidad de autos, por hora')\n",
    "plt.gcf().autofmt_xdate()\n",
    "plt.show()"
   ]
  },
  {
   "cell_type": "markdown",
   "metadata": {},
   "source": [
    "# Zoom y filtro"
   ]
  },
  {
   "cell_type": "code",
   "execution_count": null,
   "metadata": {},
   "outputs": [],
   "source": [
    "#mask2 = (dataset['fecha'] > '2017-05-01') & (dataset['fecha'] <= '2018-03-31')\n",
    "#dataset2 = dataset[mask2]\n",
    "#dataset2.head()"
   ]
  },
  {
   "cell_type": "code",
   "execution_count": null,
   "metadata": {},
   "outputs": [],
   "source": [
    "#semana2 = dataset2.resample('W', on = 'fecha').sum()\n",
    "#print(semana2.shape)\n",
    "#semana2.head()"
   ]
  },
  {
   "cell_type": "code",
   "execution_count": null,
   "metadata": {
    "colab": {
     "base_uri": "https://localhost:8080/",
     "height": 388
    },
    "id": "NoJlhys6074J",
    "outputId": "7c16a8b4-e570-40d7-bf5a-d4e1d63c3fe5"
   },
   "outputs": [],
   "source": [
    "#plt.figure(figsize = (20,10))\n",
    "#plt.plot(semana2.index, semana2.cantidad_pasos)\n",
    "#plt.xlabel('Tiempo')\n",
    "#plt.ylabel('Cantidad de autos, por semana')\n",
    "#plt.gcf().autofmt_xdate()\n",
    "#plt.show()"
   ]
  },
  {
   "cell_type": "code",
   "execution_count": null,
   "metadata": {
    "id": "tUksWTwwCrUq"
   },
   "outputs": [],
   "source": [
    "mask3 = (dataset.tipo_vehiculo=='Liviano')\n",
    "dataset3 = dataset[mask3]"
   ]
  },
  {
   "cell_type": "code",
   "execution_count": null,
   "metadata": {
    "colab": {
     "base_uri": "https://localhost:8080/",
     "height": 206
    },
    "id": "atx3p1z6F9-2",
    "outputId": "73e3d62b-2f46-42a1-9b38-2fdd18b6dc8d"
   },
   "outputs": [],
   "source": [
    "dataset3.head()"
   ]
  },
  {
   "cell_type": "code",
   "execution_count": null,
   "metadata": {
    "colab": {
     "base_uri": "https://localhost:8080/",
     "height": 300
    },
    "id": "YLnG0ZCyLP0Z",
    "outputId": "7a376902-3e64-43fb-ab49-697660fe60ab"
   },
   "outputs": [],
   "source": [
    "dataset3.describe()"
   ]
  },
  {
   "cell_type": "code",
   "execution_count": null,
   "metadata": {
    "colab": {
     "base_uri": "https://localhost:8080/",
     "height": 388
    },
    "id": "pLK8yrsDHNMi",
    "outputId": "4f998b0e-b94f-4417-bfdd-5170cb2032a9"
   },
   "outputs": [],
   "source": [
    "plt.figure(figsize = (15,6))\n",
    "plt.plot(dataset3.fecha, dataset3.cantidad_pasos)\n",
    "plt.xlabel('Fecha')\n",
    "plt.ylabel('Cantidad de autos, por hora')\n",
    "plt.show()"
   ]
  },
  {
   "cell_type": "code",
   "execution_count": null,
   "metadata": {
    "colab": {
     "base_uri": "https://localhost:8080/",
     "height": 319
    },
    "id": "Dno3F8UDHNj2",
    "outputId": "45093b54-83ee-496d-c966-1ac6adeb6b6a"
   },
   "outputs": [],
   "source": [
    "#Resampleamos nuestros datos para agrupar por dia, y asi tal vez lograr una visualización mas amigable\n",
    "diario3 = dataset3.resample('D', on = 'fecha').sum()\n",
    "print(diario3.shape)\n",
    "diario3.describe()"
   ]
  },
  {
   "cell_type": "code",
   "execution_count": null,
   "metadata": {
    "colab": {
     "base_uri": "https://localhost:8080/",
     "height": 388
    },
    "id": "7UUl9xrBHaqH",
    "outputId": "e01a38d5-5530-40f8-bd0d-85239f43dd16"
   },
   "outputs": [],
   "source": [
    "plt.figure(figsize = (15,6))\n",
    "plt.plot(diario3.index, diario3.cantidad_pasos)\n",
    "plt.xlabel('Tiempo')\n",
    "plt.ylabel('Cantidad de autos, por dia')\n",
    "plt.show()"
   ]
  },
  {
   "cell_type": "markdown",
   "metadata": {},
   "source": [
    "# FB P"
   ]
  },
  {
   "cell_type": "code",
   "execution_count": 36,
   "metadata": {
    "id": "4MMvmVcApLKB"
   },
   "outputs": [],
   "source": [
    "df = dataset.reset_index()"
   ]
  },
  {
   "cell_type": "code",
   "execution_count": 37,
   "metadata": {
    "id": "SqLzvKLSo5Yd"
   },
   "outputs": [],
   "source": [
    "df=df.rename(columns={'fecha':'ds', 'cantidad_pasos':'y'})"
   ]
  },
  {
   "cell_type": "code",
   "execution_count": 38,
   "metadata": {
    "colab": {
     "base_uri": "https://localhost:8080/",
     "height": 424
    },
    "id": "wSSohSmUx-yz",
    "outputId": "770df03a-38f8-421f-d077-532b950146ed"
   },
   "outputs": [
    {
     "data": {
      "text/html": [
       "<div>\n",
       "<style scoped>\n",
       "    .dataframe tbody tr th:only-of-type {\n",
       "        vertical-align: middle;\n",
       "    }\n",
       "\n",
       "    .dataframe tbody tr th {\n",
       "        vertical-align: top;\n",
       "    }\n",
       "\n",
       "    .dataframe thead th {\n",
       "        text-align: right;\n",
       "    }\n",
       "</style>\n",
       "<table border=\"1\" class=\"dataframe\">\n",
       "  <thead>\n",
       "    <tr style=\"text-align: right;\">\n",
       "      <th></th>\n",
       "      <th>index</th>\n",
       "      <th>dia</th>\n",
       "      <th>sentido</th>\n",
       "      <th>tipo_vehiculo</th>\n",
       "      <th>y</th>\n",
       "      <th>ds</th>\n",
       "    </tr>\n",
       "  </thead>\n",
       "  <tbody>\n",
       "    <tr>\n",
       "      <th>0</th>\n",
       "      <td>0</td>\n",
       "      <td>Domingo</td>\n",
       "      <td>Provincia</td>\n",
       "      <td>Pesado</td>\n",
       "      <td>1</td>\n",
       "      <td>2017-01-01 00:00:00</td>\n",
       "    </tr>\n",
       "    <tr>\n",
       "      <th>1</th>\n",
       "      <td>1</td>\n",
       "      <td>Domingo</td>\n",
       "      <td>Provincia</td>\n",
       "      <td>Liviano</td>\n",
       "      <td>9</td>\n",
       "      <td>2017-01-01 00:00:00</td>\n",
       "    </tr>\n",
       "    <tr>\n",
       "      <th>2</th>\n",
       "      <td>2</td>\n",
       "      <td>Domingo</td>\n",
       "      <td>Provincia</td>\n",
       "      <td>Liviano</td>\n",
       "      <td>644</td>\n",
       "      <td>2017-01-01 00:00:00</td>\n",
       "    </tr>\n",
       "    <tr>\n",
       "      <th>3</th>\n",
       "      <td>3</td>\n",
       "      <td>Domingo</td>\n",
       "      <td>Provincia</td>\n",
       "      <td>Pesado</td>\n",
       "      <td>6</td>\n",
       "      <td>2017-01-01 00:00:00</td>\n",
       "    </tr>\n",
       "    <tr>\n",
       "      <th>4</th>\n",
       "      <td>4</td>\n",
       "      <td>Domingo</td>\n",
       "      <td>Provincia</td>\n",
       "      <td>Pesado</td>\n",
       "      <td>1</td>\n",
       "      <td>2017-01-01 00:00:00</td>\n",
       "    </tr>\n",
       "    <tr>\n",
       "      <th>...</th>\n",
       "      <td>...</td>\n",
       "      <td>...</td>\n",
       "      <td>...</td>\n",
       "      <td>...</td>\n",
       "      <td>...</td>\n",
       "      <td>...</td>\n",
       "    </tr>\n",
       "    <tr>\n",
       "      <th>238864</th>\n",
       "      <td>238864</td>\n",
       "      <td>Martes</td>\n",
       "      <td>Provincia</td>\n",
       "      <td>Liviano</td>\n",
       "      <td>556</td>\n",
       "      <td>2019-12-31 22:00:00</td>\n",
       "    </tr>\n",
       "    <tr>\n",
       "      <th>238865</th>\n",
       "      <td>238865</td>\n",
       "      <td>Martes</td>\n",
       "      <td>Provincia</td>\n",
       "      <td>Pesado</td>\n",
       "      <td>1</td>\n",
       "      <td>2019-12-31 22:00:00</td>\n",
       "    </tr>\n",
       "    <tr>\n",
       "      <th>238866</th>\n",
       "      <td>238866</td>\n",
       "      <td>Martes</td>\n",
       "      <td>Centro</td>\n",
       "      <td>Liviano</td>\n",
       "      <td>580</td>\n",
       "      <td>2019-12-31 22:00:00</td>\n",
       "    </tr>\n",
       "    <tr>\n",
       "      <th>238867</th>\n",
       "      <td>238867</td>\n",
       "      <td>Martes</td>\n",
       "      <td>Centro</td>\n",
       "      <td>Liviano</td>\n",
       "      <td>214</td>\n",
       "      <td>2019-12-31 23:00:00</td>\n",
       "    </tr>\n",
       "    <tr>\n",
       "      <th>238868</th>\n",
       "      <td>238868</td>\n",
       "      <td>Martes</td>\n",
       "      <td>Provincia</td>\n",
       "      <td>Liviano</td>\n",
       "      <td>190</td>\n",
       "      <td>2019-12-31 23:00:00</td>\n",
       "    </tr>\n",
       "  </tbody>\n",
       "</table>\n",
       "<p>238869 rows × 6 columns</p>\n",
       "</div>"
      ],
      "text/plain": [
       "         index      dia    sentido tipo_vehiculo    y                  ds\n",
       "0            0  Domingo  Provincia        Pesado    1 2017-01-01 00:00:00\n",
       "1            1  Domingo  Provincia       Liviano    9 2017-01-01 00:00:00\n",
       "2            2  Domingo  Provincia       Liviano  644 2017-01-01 00:00:00\n",
       "3            3  Domingo  Provincia        Pesado    6 2017-01-01 00:00:00\n",
       "4            4  Domingo  Provincia        Pesado    1 2017-01-01 00:00:00\n",
       "...        ...      ...        ...           ...  ...                 ...\n",
       "238864  238864   Martes  Provincia       Liviano  556 2019-12-31 22:00:00\n",
       "238865  238865   Martes  Provincia        Pesado    1 2019-12-31 22:00:00\n",
       "238866  238866   Martes     Centro       Liviano  580 2019-12-31 22:00:00\n",
       "238867  238867   Martes     Centro       Liviano  214 2019-12-31 23:00:00\n",
       "238868  238868   Martes  Provincia       Liviano  190 2019-12-31 23:00:00\n",
       "\n",
       "[238869 rows x 6 columns]"
      ]
     },
     "execution_count": 38,
     "metadata": {},
     "output_type": "execute_result"
    }
   ],
   "source": [
    "df"
   ]
  },
  {
   "cell_type": "code",
   "execution_count": 39,
   "metadata": {
    "colab": {
     "base_uri": "https://localhost:8080/",
     "height": 297
    },
    "id": "Sne_g1khyInu",
    "outputId": "cdce7c82-57b1-4049-80bc-4957d67f3f32"
   },
   "outputs": [
    {
     "data": {
      "text/plain": [
       "<matplotlib.axes._subplots.AxesSubplot at 0x169071a1070>"
      ]
     },
     "execution_count": 39,
     "metadata": {},
     "output_type": "execute_result"
    },
    {
     "data": {
      "image/png": "[encoded data removed]",
      "text/plain": [
       "<Figure size 432x288 with 1 Axes>"
      ]
     },
     "metadata": {
      "needs_background": "light"
     },
     "output_type": "display_data"
    }
   ],
   "source": [
    "df.set_index('ds').y.plot()"
   ]
  },
  {
   "cell_type": "code",
   "execution_count": 40,
   "metadata": {
    "id": "S8FIsGixyYj7"
   },
   "outputs": [],
   "source": [
    "df['y'] = np.log(df['y'])"
   ]
  },
  {
   "cell_type": "code",
   "execution_count": 41,
   "metadata": {
    "colab": {
     "base_uri": "https://localhost:8080/",
     "height": 206
    },
    "id": "qkCvpCeNyd0g",
    "outputId": "8b838ac8-5903-4a4f-a443-571264e82d7e"
   },
   "outputs": [
    {
     "data": {
      "text/html": [
       "<div>\n",
       "<style scoped>\n",
       "    .dataframe tbody tr th:only-of-type {\n",
       "        vertical-align: middle;\n",
       "    }\n",
       "\n",
       "    .dataframe tbody tr th {\n",
       "        vertical-align: top;\n",
       "    }\n",
       "\n",
       "    .dataframe thead th {\n",
       "        text-align: right;\n",
       "    }\n",
       "</style>\n",
       "<table border=\"1\" class=\"dataframe\">\n",
       "  <thead>\n",
       "    <tr style=\"text-align: right;\">\n",
       "      <th></th>\n",
       "      <th>index</th>\n",
       "      <th>dia</th>\n",
       "      <th>sentido</th>\n",
       "      <th>tipo_vehiculo</th>\n",
       "      <th>y</th>\n",
       "      <th>ds</th>\n",
       "    </tr>\n",
       "  </thead>\n",
       "  <tbody>\n",
       "    <tr>\n",
       "      <th>238864</th>\n",
       "      <td>238864</td>\n",
       "      <td>Martes</td>\n",
       "      <td>Provincia</td>\n",
       "      <td>Liviano</td>\n",
       "      <td>6.320768</td>\n",
       "      <td>2019-12-31 22:00:00</td>\n",
       "    </tr>\n",
       "    <tr>\n",
       "      <th>238865</th>\n",
       "      <td>238865</td>\n",
       "      <td>Martes</td>\n",
       "      <td>Provincia</td>\n",
       "      <td>Pesado</td>\n",
       "      <td>0.000000</td>\n",
       "      <td>2019-12-31 22:00:00</td>\n",
       "    </tr>\n",
       "    <tr>\n",
       "      <th>238866</th>\n",
       "      <td>238866</td>\n",
       "      <td>Martes</td>\n",
       "      <td>Centro</td>\n",
       "      <td>Liviano</td>\n",
       "      <td>6.363028</td>\n",
       "      <td>2019-12-31 22:00:00</td>\n",
       "    </tr>\n",
       "    <tr>\n",
       "      <th>238867</th>\n",
       "      <td>238867</td>\n",
       "      <td>Martes</td>\n",
       "      <td>Centro</td>\n",
       "      <td>Liviano</td>\n",
       "      <td>5.365976</td>\n",
       "      <td>2019-12-31 23:00:00</td>\n",
       "    </tr>\n",
       "    <tr>\n",
       "      <th>238868</th>\n",
       "      <td>238868</td>\n",
       "      <td>Martes</td>\n",
       "      <td>Provincia</td>\n",
       "      <td>Liviano</td>\n",
       "      <td>5.247024</td>\n",
       "      <td>2019-12-31 23:00:00</td>\n",
       "    </tr>\n",
       "  </tbody>\n",
       "</table>\n",
       "</div>"
      ],
      "text/plain": [
       "         index     dia    sentido tipo_vehiculo         y                  ds\n",
       "238864  238864  Martes  Provincia       Liviano  6.320768 2019-12-31 22:00:00\n",
       "238865  238865  Martes  Provincia        Pesado  0.000000 2019-12-31 22:00:00\n",
       "238866  238866  Martes     Centro       Liviano  6.363028 2019-12-31 22:00:00\n",
       "238867  238867  Martes     Centro       Liviano  5.365976 2019-12-31 23:00:00\n",
       "238868  238868  Martes  Provincia       Liviano  5.247024 2019-12-31 23:00:00"
      ]
     },
     "execution_count": 41,
     "metadata": {},
     "output_type": "execute_result"
    }
   ],
   "source": [
    "df.tail()"
   ]
  },
  {
   "cell_type": "code",
   "execution_count": 42,
   "metadata": {
    "colab": {
     "base_uri": "https://localhost:8080/",
     "height": 295
    },
    "id": "tRyAfUwsyk2M",
    "outputId": "89db6524-9baa-4377-cc9c-5994fff99404"
   },
   "outputs": [
    {
     "data": {
      "text/plain": [
       "<matplotlib.axes._subplots.AxesSubplot at 0x16907304ac0>"
      ]
     },
     "execution_count": 42,
     "metadata": {},
     "output_type": "execute_result"
    },
    {
     "data": {
      "image/png": "[encoded data removed]",
      "text/plain": [
       "<Figure size 432x288 with 1 Axes>"
      ]
     },
     "metadata": {
      "needs_background": "light"
     },
     "output_type": "display_data"
    }
   ],
   "source": [
    "df.set_index('ds').y.plot()"
   ]
  },
  {
   "cell_type": "markdown",
   "metadata": {
    "id": "7yNiM65Fy4c1"
   },
   "source": [
    "# **PROPHET**"
   ]
  },
  {
   "cell_type": "code",
   "execution_count": 43,
   "metadata": {
    "id": "XSsqrFnJ6Vrj"
   },
   "outputs": [
    {
     "name": "stderr",
     "output_type": "stream",
     "text": [
      "INFO:numexpr.utils:NumExpr defaulting to 8 threads.\n"
     ]
    }
   ],
   "source": [
    "model = Prophet()\n",
    "model.fit(df);"
   ]
  },
  {
   "cell_type": "code",
   "execution_count": 74,
   "metadata": {
    "id": "-nLz-lsR1V23"
   },
   "outputs": [
    {
     "data": {
      "text/html": [
       "<div>\n",
       "<style scoped>\n",
       "    .dataframe tbody tr th:only-of-type {\n",
       "        vertical-align: middle;\n",
       "    }\n",
       "\n",
       "    .dataframe tbody tr th {\n",
       "        vertical-align: top;\n",
       "    }\n",
       "\n",
       "    .dataframe thead th {\n",
       "        text-align: right;\n",
       "    }\n",
       "</style>\n",
       "<table border=\"1\" class=\"dataframe\">\n",
       "  <thead>\n",
       "    <tr style=\"text-align: right;\">\n",
       "      <th></th>\n",
       "      <th>ds</th>\n",
       "    </tr>\n",
       "  </thead>\n",
       "  <tbody>\n",
       "    <tr>\n",
       "      <th>26121</th>\n",
       "      <td>2021-08-31 23:00:00</td>\n",
       "    </tr>\n",
       "    <tr>\n",
       "      <th>26122</th>\n",
       "      <td>2021-09-30 23:00:00</td>\n",
       "    </tr>\n",
       "    <tr>\n",
       "      <th>26123</th>\n",
       "      <td>2021-10-31 23:00:00</td>\n",
       "    </tr>\n",
       "    <tr>\n",
       "      <th>26124</th>\n",
       "      <td>2021-11-30 23:00:00</td>\n",
       "    </tr>\n",
       "    <tr>\n",
       "      <th>26125</th>\n",
       "      <td>2021-12-31 23:00:00</td>\n",
       "    </tr>\n",
       "  </tbody>\n",
       "</table>\n",
       "</div>"
      ],
      "text/plain": [
       "                       ds\n",
       "26121 2021-08-31 23:00:00\n",
       "26122 2021-09-30 23:00:00\n",
       "26123 2021-10-31 23:00:00\n",
       "26124 2021-11-30 23:00:00\n",
       "26125 2021-12-31 23:00:00"
      ]
     },
     "execution_count": 74,
     "metadata": {},
     "output_type": "execute_result"
    }
   ],
   "source": [
    "future = model.make_future_dataframe(periods=24, freq = 'M')\n",
    "future.tail()"
   ]
  },
  {
   "cell_type": "code",
   "execution_count": 75,
   "metadata": {
    "id": "Z34EeGbX1h57"
   },
   "outputs": [],
   "source": [
    "forecast = model.predict(future)"
   ]
  },
  {
   "cell_type": "code",
   "execution_count": 76,
   "metadata": {
    "id": "ROGCt2Ju1nOL"
   },
   "outputs": [
    {
     "data": {
      "text/html": [
       "<div>\n",
       "<style scoped>\n",
       "    .dataframe tbody tr th:only-of-type {\n",
       "        vertical-align: middle;\n",
       "    }\n",
       "\n",
       "    .dataframe tbody tr th {\n",
       "        vertical-align: top;\n",
       "    }\n",
       "\n",
       "    .dataframe thead th {\n",
       "        text-align: right;\n",
       "    }\n",
       "</style>\n",
       "<table border=\"1\" class=\"dataframe\">\n",
       "  <thead>\n",
       "    <tr style=\"text-align: right;\">\n",
       "      <th></th>\n",
       "      <th>ds</th>\n",
       "      <th>trend</th>\n",
       "      <th>yhat_lower</th>\n",
       "      <th>yhat_upper</th>\n",
       "      <th>trend_lower</th>\n",
       "      <th>trend_upper</th>\n",
       "      <th>additive_terms</th>\n",
       "      <th>additive_terms_lower</th>\n",
       "      <th>additive_terms_upper</th>\n",
       "      <th>daily</th>\n",
       "      <th>...</th>\n",
       "      <th>weekly</th>\n",
       "      <th>weekly_lower</th>\n",
       "      <th>weekly_upper</th>\n",
       "      <th>yearly</th>\n",
       "      <th>yearly_lower</th>\n",
       "      <th>yearly_upper</th>\n",
       "      <th>multiplicative_terms</th>\n",
       "      <th>multiplicative_terms_lower</th>\n",
       "      <th>multiplicative_terms_upper</th>\n",
       "      <th>yhat</th>\n",
       "    </tr>\n",
       "  </thead>\n",
       "  <tbody>\n",
       "    <tr>\n",
       "      <th>26121</th>\n",
       "      <td>2021-08-31 23:00:00</td>\n",
       "      <td>8.483201</td>\n",
       "      <td>0.268970</td>\n",
       "      <td>15.880699</td>\n",
       "      <td>0.931049</td>\n",
       "      <td>15.730236</td>\n",
       "      <td>-0.479256</td>\n",
       "      <td>-0.479256</td>\n",
       "      <td>-0.479256</td>\n",
       "      <td>-0.132303</td>\n",
       "      <td>...</td>\n",
       "      <td>0.029001</td>\n",
       "      <td>0.029001</td>\n",
       "      <td>0.029001</td>\n",
       "      <td>-0.375955</td>\n",
       "      <td>-0.375955</td>\n",
       "      <td>-0.375955</td>\n",
       "      <td>0.0</td>\n",
       "      <td>0.0</td>\n",
       "      <td>0.0</td>\n",
       "      <td>8.003946</td>\n",
       "    </tr>\n",
       "    <tr>\n",
       "      <th>26122</th>\n",
       "      <td>2021-09-30 23:00:00</td>\n",
       "      <td>8.636965</td>\n",
       "      <td>-0.487862</td>\n",
       "      <td>16.289334</td>\n",
       "      <td>0.506116</td>\n",
       "      <td>16.508594</td>\n",
       "      <td>-0.620130</td>\n",
       "      <td>-0.620130</td>\n",
       "      <td>-0.620130</td>\n",
       "      <td>-0.132303</td>\n",
       "      <td>...</td>\n",
       "      <td>0.060089</td>\n",
       "      <td>0.060089</td>\n",
       "      <td>0.060089</td>\n",
       "      <td>-0.547917</td>\n",
       "      <td>-0.547917</td>\n",
       "      <td>-0.547917</td>\n",
       "      <td>0.0</td>\n",
       "      <td>0.0</td>\n",
       "      <td>0.0</td>\n",
       "      <td>8.016835</td>\n",
       "    </tr>\n",
       "    <tr>\n",
       "      <th>26123</th>\n",
       "      <td>2021-10-31 23:00:00</td>\n",
       "      <td>8.795854</td>\n",
       "      <td>-0.824309</td>\n",
       "      <td>17.019912</td>\n",
       "      <td>0.066048</td>\n",
       "      <td>17.171258</td>\n",
       "      <td>-0.887779</td>\n",
       "      <td>-0.887779</td>\n",
       "      <td>-0.887779</td>\n",
       "      <td>-0.132303</td>\n",
       "      <td>...</td>\n",
       "      <td>-0.104287</td>\n",
       "      <td>-0.104287</td>\n",
       "      <td>-0.104287</td>\n",
       "      <td>-0.651190</td>\n",
       "      <td>-0.651190</td>\n",
       "      <td>-0.651190</td>\n",
       "      <td>0.0</td>\n",
       "      <td>0.0</td>\n",
       "      <td>0.0</td>\n",
       "      <td>7.908075</td>\n",
       "    </tr>\n",
       "    <tr>\n",
       "      <th>26124</th>\n",
       "      <td>2021-11-30 23:00:00</td>\n",
       "      <td>8.949618</td>\n",
       "      <td>-1.665167</td>\n",
       "      <td>17.524650</td>\n",
       "      <td>-0.163584</td>\n",
       "      <td>17.860031</td>\n",
       "      <td>-0.797082</td>\n",
       "      <td>-0.797082</td>\n",
       "      <td>-0.797082</td>\n",
       "      <td>-0.132303</td>\n",
       "      <td>...</td>\n",
       "      <td>0.029001</td>\n",
       "      <td>0.029001</td>\n",
       "      <td>0.029001</td>\n",
       "      <td>-0.693781</td>\n",
       "      <td>-0.693781</td>\n",
       "      <td>-0.693781</td>\n",
       "      <td>0.0</td>\n",
       "      <td>0.0</td>\n",
       "      <td>0.0</td>\n",
       "      <td>8.152536</td>\n",
       "    </tr>\n",
       "    <tr>\n",
       "      <th>26125</th>\n",
       "      <td>2021-12-31 23:00:00</td>\n",
       "      <td>9.108507</td>\n",
       "      <td>-1.026764</td>\n",
       "      <td>18.566172</td>\n",
       "      <td>-0.488705</td>\n",
       "      <td>18.608512</td>\n",
       "      <td>-0.318201</td>\n",
       "      <td>-0.318201</td>\n",
       "      <td>-0.318201</td>\n",
       "      <td>-0.132303</td>\n",
       "      <td>...</td>\n",
       "      <td>0.058484</td>\n",
       "      <td>0.058484</td>\n",
       "      <td>0.058484</td>\n",
       "      <td>-0.244382</td>\n",
       "      <td>-0.244382</td>\n",
       "      <td>-0.244382</td>\n",
       "      <td>0.0</td>\n",
       "      <td>0.0</td>\n",
       "      <td>0.0</td>\n",
       "      <td>8.790306</td>\n",
       "    </tr>\n",
       "  </tbody>\n",
       "</table>\n",
       "<p>5 rows × 22 columns</p>\n",
       "</div>"
      ],
      "text/plain": [
       "                       ds     trend  yhat_lower  yhat_upper  trend_lower  \\\n",
       "26121 2021-08-31 23:00:00  8.483201    0.268970   15.880699     0.931049   \n",
       "26122 2021-09-30 23:00:00  8.636965   -0.487862   16.289334     0.506116   \n",
       "26123 2021-10-31 23:00:00  8.795854   -0.824309   17.019912     0.066048   \n",
       "26124 2021-11-30 23:00:00  8.949618   -1.665167   17.524650    -0.163584   \n",
       "26125 2021-12-31 23:00:00  9.108507   -1.026764   18.566172    -0.488705   \n",
       "\n",
       "       trend_upper  additive_terms  additive_terms_lower  \\\n",
       "26121    15.730236       -0.479256             -0.479256   \n",
       "26122    16.508594       -0.620130             -0.620130   \n",
       "26123    17.171258       -0.887779             -0.887779   \n",
       "26124    17.860031       -0.797082             -0.797082   \n",
       "26125    18.608512       -0.318201             -0.318201   \n",
       "\n",
       "       additive_terms_upper     daily  ...    weekly  weekly_lower  \\\n",
       "26121             -0.479256 -0.132303  ...  0.029001      0.029001   \n",
       "26122             -0.620130 -0.132303  ...  0.060089      0.060089   \n",
       "26123             -0.887779 -0.132303  ... -0.104287     -0.104287   \n",
       "26124             -0.797082 -0.132303  ...  0.029001      0.029001   \n",
       "26125             -0.318201 -0.132303  ...  0.058484      0.058484   \n",
       "\n",
       "       weekly_upper    yearly  yearly_lower  yearly_upper  \\\n",
       "26121      0.029001 -0.375955     -0.375955     -0.375955   \n",
       "26122      0.060089 -0.547917     -0.547917     -0.547917   \n",
       "26123     -0.104287 -0.651190     -0.651190     -0.651190   \n",
       "26124      0.029001 -0.693781     -0.693781     -0.693781   \n",
       "26125      0.058484 -0.244382     -0.244382     -0.244382   \n",
       "\n",
       "       multiplicative_terms  multiplicative_terms_lower  \\\n",
       "26121                   0.0                         0.0   \n",
       "26122                   0.0                         0.0   \n",
       "26123                   0.0                         0.0   \n",
       "26124                   0.0                         0.0   \n",
       "26125                   0.0                         0.0   \n",
       "\n",
       "       multiplicative_terms_upper      yhat  \n",
       "26121                         0.0  8.003946  \n",
       "26122                         0.0  8.016835  \n",
       "26123                         0.0  7.908075  \n",
       "26124                         0.0  8.152536  \n",
       "26125                         0.0  8.790306  \n",
       "\n",
       "[5 rows x 22 columns]"
      ]
     },
     "execution_count": 76,
     "metadata": {},
     "output_type": "execute_result"
    }
   ],
   "source": [
    "forecast.tail()"
   ]
  },
  {
   "cell_type": "code",
   "execution_count": 77,
   "metadata": {
    "id": "e59qFk371tvl"
   },
   "outputs": [
    {
     "data": {
      "text/html": [
       "<div>\n",
       "<style scoped>\n",
       "    .dataframe tbody tr th:only-of-type {\n",
       "        vertical-align: middle;\n",
       "    }\n",
       "\n",
       "    .dataframe tbody tr th {\n",
       "        vertical-align: top;\n",
       "    }\n",
       "\n",
       "    .dataframe thead th {\n",
       "        text-align: right;\n",
       "    }\n",
       "</style>\n",
       "<table border=\"1\" class=\"dataframe\">\n",
       "  <thead>\n",
       "    <tr style=\"text-align: right;\">\n",
       "      <th></th>\n",
       "      <th>ds</th>\n",
       "      <th>yhat</th>\n",
       "      <th>yhat_lower</th>\n",
       "      <th>yhat_upper</th>\n",
       "    </tr>\n",
       "  </thead>\n",
       "  <tbody>\n",
       "    <tr>\n",
       "      <th>26121</th>\n",
       "      <td>2021-08-31 23:00:00</td>\n",
       "      <td>8.003946</td>\n",
       "      <td>0.268970</td>\n",
       "      <td>15.880699</td>\n",
       "    </tr>\n",
       "    <tr>\n",
       "      <th>26122</th>\n",
       "      <td>2021-09-30 23:00:00</td>\n",
       "      <td>8.016835</td>\n",
       "      <td>-0.487862</td>\n",
       "      <td>16.289334</td>\n",
       "    </tr>\n",
       "    <tr>\n",
       "      <th>26123</th>\n",
       "      <td>2021-10-31 23:00:00</td>\n",
       "      <td>7.908075</td>\n",
       "      <td>-0.824309</td>\n",
       "      <td>17.019912</td>\n",
       "    </tr>\n",
       "    <tr>\n",
       "      <th>26124</th>\n",
       "      <td>2021-11-30 23:00:00</td>\n",
       "      <td>8.152536</td>\n",
       "      <td>-1.665167</td>\n",
       "      <td>17.524650</td>\n",
       "    </tr>\n",
       "    <tr>\n",
       "      <th>26125</th>\n",
       "      <td>2021-12-31 23:00:00</td>\n",
       "      <td>8.790306</td>\n",
       "      <td>-1.026764</td>\n",
       "      <td>18.566172</td>\n",
       "    </tr>\n",
       "  </tbody>\n",
       "</table>\n",
       "</div>"
      ],
      "text/plain": [
       "                       ds      yhat  yhat_lower  yhat_upper\n",
       "26121 2021-08-31 23:00:00  8.003946    0.268970   15.880699\n",
       "26122 2021-09-30 23:00:00  8.016835   -0.487862   16.289334\n",
       "26123 2021-10-31 23:00:00  7.908075   -0.824309   17.019912\n",
       "26124 2021-11-30 23:00:00  8.152536   -1.665167   17.524650\n",
       "26125 2021-12-31 23:00:00  8.790306   -1.026764   18.566172"
      ]
     },
     "execution_count": 77,
     "metadata": {},
     "output_type": "execute_result"
    }
   ],
   "source": [
    "forecast[['ds', 'yhat', 'yhat_lower', 'yhat_upper']].tail()"
   ]
  },
  {
   "cell_type": "code",
   "execution_count": 78,
   "metadata": {},
   "outputs": [
    {
     "data": {
      "image/png": "[encoded data removed]",
      "text/plain": [
       "<Figure size 720x432 with 1 Axes>"
      ]
     },
     "metadata": {},
     "output_type": "display_data"
    }
   ],
   "source": [
    "model.plot(forecast);"
   ]
  }
 ],
 "metadata": {
  "colab": {
   "collapsed_sections": [],
   "name": "Copia de DS_Proyecto_03_ST.ipynb",
   "provenance": []
  },
  "kernelspec": {
   "display_name": "Python 3",
   "language": "python",
   "name": "python3"
  },
  "language_info": {
   "codemirror_mode": {
    "name": "ipython",
    "version": 3
   },
   "file_extension": ".py",
   "mimetype": "text/x-python",
   "name": "python",
   "nbconvert_exporter": "python",
   "pygments_lexer": "ipython3",
   "version": "3.8.3"
  }
 },
 "nbformat": 4,
 "nbformat_minor": 4
}
